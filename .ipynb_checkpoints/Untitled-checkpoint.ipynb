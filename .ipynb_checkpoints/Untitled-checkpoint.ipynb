{
 "cells": [
  {
   "cell_type": "code",
   "execution_count": 1,
   "id": "3b438cbf",
   "metadata": {},
   "outputs": [],
   "source": [
    "import numpy as np\n",
    "import pandas as pd"
   ]
  },
  {
   "cell_type": "code",
   "execution_count": 2,
   "id": "25f8939a",
   "metadata": {},
   "outputs": [],
   "source": [
    "dict1={\n",
    "    \"name\":['Sukalyan','Saklin','Pabitra','Kousik','Anupam'],\n",
    "    \"Marks\":[12,23,34,55,66],\n",
    "    \"City\" :['Kolkata','Haldia','Haldia','Basulia','Ranaghat']\n",
    "}"
   ]
  },
  {
   "cell_type": "code",
   "execution_count": 3,
   "id": "ef021afa",
   "metadata": {},
   "outputs": [],
   "source": [
    "df=pd.DataFrame(dict1)"
   ]
  },
  {
   "cell_type": "code",
   "execution_count": 4,
   "id": "1f504cca",
   "metadata": {},
   "outputs": [],
   "source": [
    "df"
   ]
  },
  {
   "cell_type": "code",
   "execution_count": null,
   "id": "23e132b5",
   "metadata": {},
   "outputs": [],
   "source": []
  },
  {
   "cell_type": "code",
   "execution_count": 5,
   "id": "0cdf0660",
   "metadata": {},
   "outputs": [],
   "source": [
    "df.to_csv('friends.csv')"
   ]
  },
  {
   "cell_type": "code",
   "execution_count": 6,
   "id": "94e83493",
   "metadata": {},
   "outputs": [],
   "source": [
    "df.to_csv('friends.csv',index=False)"
   ]
  },
  {
   "cell_type": "code",
   "execution_count": 7,
   "id": "f2c8d99e",
   "metadata": {},
   "outputs": [],
   "source": [
    "df.to_csv('friends_indexFalse.csv',index=False)"
   ]
  },
  {
   "cell_type": "code",
   "execution_count": 8,
   "id": "7b7b4a09",
   "metadata": {},
   "outputs": [],
   "source": [
    "df.head(3)"
   ]
  },
  {
   "cell_type": "code",
   "execution_count": 9,
   "id": "a37aa3c4",
   "metadata": {},
   "outputs": [],
   "source": [
    "df.head(2)"
   ]
  },
  {
   "cell_type": "code",
   "execution_count": 10,
   "id": "00c59b71",
   "metadata": {},
   "outputs": [],
   "source": [
    "df.head(4)"
   ]
  },
  {
   "cell_type": "code",
   "execution_count": 11,
   "id": "72005e09",
   "metadata": {},
   "outputs": [],
   "source": [
    "df.tail(2)"
   ]
  },
  {
   "cell_type": "code",
   "execution_count": 12,
   "id": "c9a86d86",
   "metadata": {},
   "outputs": [],
   "source": [
    "df.tail(3)"
   ]
  },
  {
   "cell_type": "code",
   "execution_count": 13,
   "id": "b1d736fc",
   "metadata": {},
   "outputs": [],
   "source": [
    "df.describe()"
   ]
  },
  {
   "cell_type": "code",
   "execution_count": 14,
   "id": "9b427825",
   "metadata": {},
   "outputs": [],
   "source": [
    "sukalyan=pd.read_csv('sukalyan.csv')"
   ]
  },
  {
   "cell_type": "code",
   "execution_count": 15,
   "id": "dae25843",
   "metadata": {},
   "outputs": [],
   "source": [
    "sukalyan=pd.read_csv('sukalyan.csv')"
   ]
  },
  {
   "cell_type": "code",
   "execution_count": 16,
   "id": "49b5b140",
   "metadata": {},
   "outputs": [],
   "source": [
    "sukalyan"
   ]
  },
  {
   "cell_type": "code",
   "execution_count": 17,
   "id": "8aba2db7",
   "metadata": {},
   "outputs": [],
   "source": [
    "sukalyan[speed]"
   ]
  },
  {
   "cell_type": "code",
   "execution_count": null,
   "id": "09126bc2",
   "metadata": {},
   "outputs": [],
   "source": [
    "sukalyan[age]"
   ]
  },
  {
   "cell_type": "code",
   "execution_count": null,
   "id": "1ac5493a",
   "metadata": {},
   "outputs": [],
   "source": [
    "sukalyan[Age]"
   ]
  },
  {
   "cell_type": "code",
   "execution_count": null,
   "id": "bcd99c29",
   "metadata": {},
   "outputs": [],
   "source": [
    "sukalyan"
   ]
  },
  {
   "cell_type": "code",
   "execution_count": null,
   "id": "c1d717eb",
   "metadata": {},
   "outputs": [],
   "source": [
    "sukalyan[Date]"
   ]
  },
  {
   "cell_type": "code",
   "execution_count": null,
   "id": "df26c1d5",
   "metadata": {},
   "outputs": [],
   "source": [
    "sukalyan['Age']"
   ]
  },
  {
   "cell_type": "code",
   "execution_count": null,
   "id": "b8053925",
   "metadata": {},
   "outputs": [],
   "source": [
    "sukalyan['Age'][0]"
   ]
  },
  {
   "cell_type": "code",
   "execution_count": null,
   "id": "4e7c4556",
   "metadata": {},
   "outputs": [],
   "source": [
    "sukalyan['Age'][0]=50000"
   ]
  },
  {
   "cell_type": "code",
   "execution_count": null,
   "id": "3112e678",
   "metadata": {},
   "outputs": [],
   "source": [
    "sukalyan['Age'][0]"
   ]
  },
  {
   "cell_type": "code",
   "execution_count": null,
   "id": "c8dbc772",
   "metadata": {},
   "outputs": [],
   "source": [
    "sukalyan.to_csv('sukalyan.csv')"
   ]
  },
  {
   "cell_type": "code",
   "execution_count": null,
   "id": "4949c1ae",
   "metadata": {},
   "outputs": [],
   "source": [
    "sukalyan.to_csv('sukalyan_indexFalse.csv',index=False)"
   ]
  },
  {
   "cell_type": "code",
   "execution_count": null,
   "id": "1b6cfc2b",
   "metadata": {},
   "outputs": [],
   "source": [
    "sukalyan"
   ]
  },
  {
   "cell_type": "code",
   "execution_count": null,
   "id": "a52ccec2",
   "metadata": {},
   "outputs": [],
   "source": [
    "sukalyan.index['First','Second','Third','Fourth']"
   ]
  },
  {
   "cell_type": "code",
   "execution_count": null,
   "id": "55f175c3",
   "metadata": {},
   "outputs": [],
   "source": [
    "df\n"
   ]
  },
  {
   "cell_type": "code",
   "execution_count": null,
   "id": "52056d3a",
   "metadata": {},
   "outputs": [],
   "source": [
    "df.index=['first','second','third','forth']"
   ]
  },
  {
   "cell_type": "code",
   "execution_count": null,
   "id": "919f4041",
   "metadata": {},
   "outputs": [],
   "source": [
    "df.index=['first','second','third','forth','fifth']"
   ]
  },
  {
   "cell_type": "code",
   "execution_count": null,
   "id": "d49f0651",
   "metadata": {},
   "outputs": [],
   "source": [
    "df\n"
   ]
  },
  {
   "cell_type": "code",
   "execution_count": null,
   "id": "1277b9c2",
   "metadata": {},
   "outputs": [],
   "source": []
  }
 ],
 "metadata": {
  "kernelspec": {
   "display_name": "Python 3 (ipykernel)",
   "language": "python",
   "name": "python3"
  },
  "language_info": {
   "codemirror_mode": {
    "name": "ipython",
    "version": 3
   },
   "file_extension": ".py",
   "mimetype": "text/x-python",
   "name": "python",
   "nbconvert_exporter": "python",
   "pygments_lexer": "ipython3",
   "version": "3.11.1"
  }
 },
 "nbformat": 4,
 "nbformat_minor": 5
}
