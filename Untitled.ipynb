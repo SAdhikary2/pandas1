{
 "cells": [
  {
   "cell_type": "code",
   "execution_count": 1,
   "id": "54589b80",
   "metadata": {},
   "outputs": [],
   "source": [
    "import numpy as np\n",
    "import pandas as pd"
   ]
  },
  {
   "cell_type": "code",
   "execution_count": 2,
   "id": "b92197e3",
   "metadata": {},
   "outputs": [],
   "source": [
    "dict1={\n",
    "    \"name\":['Sukalyan','Saklin','Pabitra','Kousik','Anupam'],\n",
    "    \"Marks\":[12,23,34,55,66],\n",
    "    \"City\" :['Kolkata','Haldia','Haldia','Basulia','Ranaghat']\n",
    "}"
   ]
  },
  {
   "cell_type": "code",
   "execution_count": 3,
   "id": "2896dbc7",
   "metadata": {},
   "outputs": [],
   "source": [
    "df=pd.DataFrame(dict1)"
   ]
  },
  {
   "cell_type": "code",
   "execution_count": 4,
   "id": "6dc10c93",
   "metadata": {},
   "outputs": [],
   "source": [
    "df"
   ]
  },
  {
   "cell_type": "code",
   "execution_count": null,
   "id": "acb08d14",
   "metadata": {},
   "outputs": [],
   "source": []
  },
  {
   "cell_type": "code",
   "execution_count": 5,
   "id": "59a4cbdc",
   "metadata": {},
   "outputs": [],
   "source": [
    "df.to_csv('friends.csv')"
   ]
  },
  {
   "cell_type": "code",
   "execution_count": 6,
   "id": "047057b0",
   "metadata": {},
   "outputs": [],
   "source": [
    "df.to_csv('friends.csv',index=False)"
   ]
  },
  {
   "cell_type": "code",
   "execution_count": 7,
   "id": "35b77a38",
   "metadata": {},
   "outputs": [],
   "source": [
    "df.to_csv('friends_indexFalse.csv',index=False)"
   ]
  },
  {
   "cell_type": "code",
   "execution_count": 8,
   "id": "c24e449e",
   "metadata": {},
   "outputs": [],
   "source": [
    "df.head(3)"
   ]
  },
  {
   "cell_type": "code",
   "execution_count": 9,
   "id": "7ec25004",
   "metadata": {},
   "outputs": [],
   "source": [
    "df.head(2)"
   ]
  },
  {
   "cell_type": "code",
   "execution_count": 10,
   "id": "f427160e",
   "metadata": {},
   "outputs": [],
   "source": [
    "df.head(4)"
   ]
  },
  {
   "cell_type": "code",
   "execution_count": 11,
   "id": "5649d53c",
   "metadata": {},
   "outputs": [],
   "source": [
    "df.tail(2)"
   ]
  },
  {
   "cell_type": "code",
   "execution_count": 12,
   "id": "91506859",
   "metadata": {},
   "outputs": [],
   "source": [
    "df.tail(3)"
   ]
  },
  {
   "cell_type": "code",
   "execution_count": 13,
   "id": "7f1ef807",
   "metadata": {},
   "outputs": [],
   "source": [
    "df.describe()"
   ]
  },
  {
   "cell_type": "code",
   "execution_count": 14,
   "id": "2c922a56",
   "metadata": {},
   "outputs": [],
   "source": [
    "sukalyan=pd.read_csv('sukalyan.csv')"
   ]
  },
  {
   "cell_type": "code",
   "execution_count": 15,
   "id": "eb469a70",
   "metadata": {},
   "outputs": [],
   "source": [
    "sukalyan=pd.read_csv('sukalyan.csv')"
   ]
  },
  {
   "cell_type": "code",
   "execution_count": 16,
   "id": "bb864308",
   "metadata": {},
   "outputs": [],
   "source": [
    "sukalyan"
   ]
  },
  {
   "cell_type": "code",
   "execution_count": 17,
   "id": "59f3127f",
   "metadata": {},
   "outputs": [],
   "source": [
    "sukalyan[speed]"
   ]
  },
  {
   "cell_type": "code",
   "execution_count": null,
   "id": "283f200b",
   "metadata": {},
   "outputs": [],
   "source": [
    "sukalyan[age]"
   ]
  },
  {
   "cell_type": "code",
   "execution_count": null,
   "id": "2a97d186",
   "metadata": {},
   "outputs": [],
   "source": [
    "sukalyan[Age]"
   ]
  },
  {
   "cell_type": "code",
   "execution_count": null,
   "id": "ba6b230c",
   "metadata": {},
   "outputs": [],
   "source": [
    "sukalyan"
   ]
  },
  {
   "cell_type": "code",
   "execution_count": null,
   "id": "4ff2f5d0",
   "metadata": {},
   "outputs": [],
   "source": [
    "sukalyan[Date]"
   ]
  },
  {
   "cell_type": "code",
   "execution_count": null,
   "id": "752918cb",
   "metadata": {},
   "outputs": [],
   "source": [
    "sukalyan['Age']"
   ]
  },
  {
   "cell_type": "code",
   "execution_count": null,
   "id": "bf72882d",
   "metadata": {},
   "outputs": [],
   "source": [
    "sukalyan['Age'][0]"
   ]
  },
  {
   "cell_type": "code",
   "execution_count": null,
   "id": "21019a0d",
   "metadata": {},
   "outputs": [],
   "source": [
    "sukalyan['Age'][0]=50000"
   ]
  },
  {
   "cell_type": "code",
   "execution_count": null,
   "id": "09913d2d",
   "metadata": {},
   "outputs": [],
   "source": [
    "sukalyan['Age'][0]"
   ]
  },
  {
   "cell_type": "code",
   "execution_count": null,
   "id": "f2f58f4a",
   "metadata": {},
   "outputs": [],
   "source": [
    "sukalyan.to_csv('sukalyan.csv')"
   ]
  },
  {
   "cell_type": "code",
   "execution_count": null,
   "id": "cd57af2b",
   "metadata": {},
   "outputs": [],
   "source": [
    "sukalyan.to_csv('sukalyan_indexFalse.csv',index=False)"
   ]
  },
  {
   "cell_type": "code",
   "execution_count": null,
   "id": "fc051c85",
   "metadata": {},
   "outputs": [],
   "source": [
    "sukalyan"
   ]
  },
  {
   "cell_type": "code",
   "execution_count": null,
   "id": "0c1ca09c",
   "metadata": {},
   "outputs": [],
   "source": [
    "sukalyan.index['First','Second','Third','Fourth']"
   ]
  },
  {
   "cell_type": "code",
   "execution_count": null,
   "id": "851e1803",
   "metadata": {},
   "outputs": [],
   "source": [
    "df\n"
   ]
  },
  {
   "cell_type": "code",
   "execution_count": null,
   "id": "37d3be2b",
   "metadata": {},
   "outputs": [],
   "source": [
    "df.index=['first','second','third','forth']"
   ]
  },
  {
   "cell_type": "code",
   "execution_count": null,
   "id": "a155a46f",
   "metadata": {},
   "outputs": [],
   "source": [
    "df.index=['first','second','third','forth','fifth']"
   ]
  },
  {
   "cell_type": "code",
   "execution_count": null,
   "id": "04a38670",
   "metadata": {},
   "outputs": [],
   "source": [
    "df\n"
   ]
  },
  {
   "cell_type": "code",
   "execution_count": 19,
   "id": "fa74a335",
   "metadata": {},
   "outputs": [],
   "source": [
    "ser=pd.Series(np.random.rand(10))"
   ]
  },
  {
   "cell_type": "code",
   "execution_count": null,
   "id": "cef153c5",
   "metadata": {},
   "outputs": [],
   "source": []
  },
  {
   "cell_type": "code",
   "execution_count": 20,
   "id": "b1ccf880",
   "metadata": {},
   "outputs": [],
   "source": [
    "ser"
   ]
  },
  {
   "cell_type": "code",
   "execution_count": 21,
   "id": "131caf76",
   "metadata": {},
   "outputs": [],
   "source": [
    "ser=pd.Series(np.random.rand(10))"
   ]
  },
  {
   "cell_type": "code",
   "execution_count": 22,
   "id": "6d930496",
   "metadata": {},
   "outputs": [],
   "source": [
    "ser"
   ]
  },
  {
   "cell_type": "code",
   "execution_count": 23,
   "id": "bcab7338",
   "metadata": {},
   "outputs": [],
   "source": [
    "df"
   ]
  },
  {
   "cell_type": "code",
   "execution_count": null,
   "id": "563653ff",
   "metadata": {},
   "outputs": [],
   "source": []
  }
 ],
 "metadata": {
  "kernelspec": {
   "display_name": "Python 3 (ipykernel)",
   "language": "python",
   "name": "python3"
  },
  "language_info": {
   "codemirror_mode": {
    "name": "ipython",
    "version": 3
   },
   "file_extension": ".py",
   "mimetype": "text/x-python",
   "name": "python",
   "nbconvert_exporter": "python",
   "pygments_lexer": "ipython3",
   "version": "3.11.1"
  }
 },
 "nbformat": 4,
 "nbformat_minor": 5
}
